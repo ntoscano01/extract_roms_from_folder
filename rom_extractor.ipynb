{
 "cells": [
  {
   "cell_type": "code",
   "execution_count": 1,
   "id": "d0c313da-17d8-4bdc-b8c9-79fc1aaee815",
   "metadata": {},
   "outputs": [],
   "source": [
    "import zipfile\n",
    "import os\n",
    "\n",
    "def extract_all_zips_to_new_folder(source_directory, destination_directory):\n",
    "    \"\"\"\n",
    "    Extracts all zip files from a source directory to a new destination directory.\n",
    "\n",
    "    Args:\n",
    "        source_directory (str): The path to the directory containing the zip files.\n",
    "        destination_directory (str): The path to the directory where the contents\n",
    "                                     will be extracted. This directory will be created\n",
    "                                     if it doesn't exist.\n",
    "    \"\"\"\n",
    "    if not os.path.exists(destination_directory):\n",
    "        os.makedirs(destination_directory)\n",
    "\n",
    "    for item in os.listdir(source_directory):\n",
    "        item_path = os.path.join(source_directory, item)\n",
    "\n",
    "        if os.path.isfile(item_path) and item.lower().endswith(\".zip\"):\n",
    "            try:\n",
    "                with zipfile.ZipFile(item_path, 'r') as zip_ref:\n",
    "                    # Extract all contents of the zip file to the destination directory\n",
    "                    zip_ref.extractall(destination_directory)\n",
    "                print(f\"Extracted '{item}' to '{destination_directory}'\")\n",
    "            except zipfile.BadZipFile:\n",
    "                print(f\"Error: '{item}' is not a valid zip file and could not be extracted.\")\n",
    "            except Exception as e:\n",
    "                print(f\"An error occurred while extracting '{item}': {e}\")\n",
    "\n"
   ]
  },
  {
   "cell_type": "code",
   "execution_count": null,
   "id": "533f15e7-b68c-4274-99c3-b440b5b30e67",
   "metadata": {},
   "outputs": [],
   "source": [
    "# Example usage:\n",
    "# Assuming your zip files are in 'my_zip_files' and you want to extract them to 'extracted_content'\n",
    "source_dir = r'C:\\Users\\ntosc\\Downloads' # Rplace with your source directory\n",
    "destination_dir = r'C:\\Users\\ntosc\\Desktop\\n64' # Replace with your desired destination directory\n",
    "\n",
    "extract_all_zips_to_new_folder(source_dir, destination_dir)"
   ]
  },
  {
   "cell_type": "code",
   "execution_count": null,
   "id": "9e164cdb-572d-4893-ba12-a0ae31634367",
   "metadata": {},
   "outputs": [],
   "source": []
  }
 ],
 "metadata": {
  "kernelspec": {
   "display_name": "bigdata",
   "language": "python",
   "name": "bigdata"
  },
  "language_info": {
   "codemirror_mode": {
    "name": "ipython",
    "version": 3
   },
   "file_extension": ".py",
   "mimetype": "text/x-python",
   "name": "python",
   "nbconvert_exporter": "python",
   "pygments_lexer": "ipython3",
   "version": "3.12.3"
  }
 },
 "nbformat": 4,
 "nbformat_minor": 5
}
